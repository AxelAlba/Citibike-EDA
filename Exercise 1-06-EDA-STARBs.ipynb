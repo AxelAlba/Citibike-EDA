{
 "cells": [
  {
   "cell_type": "markdown",
   "metadata": {
    "collapsed": false
   },
   "source": [
    "# Exercise: EDA\n",
    "\n",
    "This exercise is a continuation of the exploratory data analysis of the Citibike Trip Histories dataset. The first section shows code to prepare the data, followed by a section of the initial analysis. Your task is complete the EDA of the Citibike dataset. The instructions are stated in the last section of this notebook.\n",
    "\n",
    "**IMPORTANT:** Copy this notebook and make changes in that copy. Do not push changes to this notebook."
   ]
  },
  {
   "cell_type": "code",
   "execution_count": 1,
   "metadata": {
    "collapsed": false
   },
   "outputs": [
    {
     "name": "stdout",
     "output_type": "stream",
     "text": [
      "Populating the interactive namespace from numpy and matplotlib\n"
     ]
    }
   ],
   "source": [
    "import os\n",
    "import math\n",
    "import pandas as pd\n",
    "import numpy as np\n",
    "import matplotlib.pyplot as plt\n",
    "import seaborn as sns\n",
    "\n",
    "from scipy.stats import zscore\n",
    "\n",
    "%pylab inline"
   ]
  },
  {
   "cell_type": "markdown",
   "metadata": {
    "collapsed": false
   },
   "source": [
    "## Data - CitiBike Trip Histories\n",
    "\n",
    "CitiBike provides the data of the bike share through this website: https://www.citibikenyc.com/system-data\n",
    "\n",
    "For this exercise, we'll be using their trip history data which may be found [here](https://s3.amazonaws.com/tripdata/index.html). "
   ]
  },
  {
   "cell_type": "code",
   "execution_count": 2,
   "metadata": {
    "collapsed": false
   },
   "outputs": [
    {
     "data": {
      "text/html": [
       "<div>\n",
       "<style scoped>\n",
       "    .dataframe tbody tr th:only-of-type {\n",
       "        vertical-align: middle;\n",
       "    }\n",
       "\n",
       "    .dataframe tbody tr th {\n",
       "        vertical-align: top;\n",
       "    }\n",
       "\n",
       "    .dataframe thead th {\n",
       "        text-align: right;\n",
       "    }\n",
       "</style>\n",
       "<table border=\"1\" class=\"dataframe\">\n",
       "  <thead>\n",
       "    <tr style=\"text-align: right;\">\n",
       "      <th></th>\n",
       "      <th>tripduration</th>\n",
       "      <th>starttime</th>\n",
       "      <th>stoptime</th>\n",
       "      <th>start station id</th>\n",
       "      <th>start station name</th>\n",
       "      <th>start station latitude</th>\n",
       "      <th>start station longitude</th>\n",
       "      <th>end station id</th>\n",
       "      <th>end station name</th>\n",
       "      <th>end station latitude</th>\n",
       "      <th>end station longitude</th>\n",
       "      <th>bikeid</th>\n",
       "      <th>usertype</th>\n",
       "      <th>birth year</th>\n",
       "      <th>gender</th>\n",
       "    </tr>\n",
       "  </thead>\n",
       "  <tbody>\n",
       "    <tr>\n",
       "      <th>0</th>\n",
       "      <td>304</td>\n",
       "      <td>2021-02-01 00:04:23.0780</td>\n",
       "      <td>2021-02-01 00:09:27.7920</td>\n",
       "      <td>3175</td>\n",
       "      <td>W 70 St &amp; Amsterdam Ave</td>\n",
       "      <td>40.777480</td>\n",
       "      <td>-73.982886</td>\n",
       "      <td>4045</td>\n",
       "      <td>West End Ave &amp; W 60 St</td>\n",
       "      <td>40.772370</td>\n",
       "      <td>-73.990050</td>\n",
       "      <td>27451</td>\n",
       "      <td>Subscriber</td>\n",
       "      <td>1996</td>\n",
       "      <td>2</td>\n",
       "    </tr>\n",
       "    <tr>\n",
       "      <th>1</th>\n",
       "      <td>370</td>\n",
       "      <td>2021-02-01 00:07:08.8080</td>\n",
       "      <td>2021-02-01 00:13:19.4670</td>\n",
       "      <td>3154</td>\n",
       "      <td>E 77 St &amp; 3 Ave</td>\n",
       "      <td>40.773142</td>\n",
       "      <td>-73.958562</td>\n",
       "      <td>3725</td>\n",
       "      <td>2 Ave &amp; E 72 St</td>\n",
       "      <td>40.768762</td>\n",
       "      <td>-73.958408</td>\n",
       "      <td>35000</td>\n",
       "      <td>Subscriber</td>\n",
       "      <td>1991</td>\n",
       "      <td>1</td>\n",
       "    </tr>\n",
       "    <tr>\n",
       "      <th>2</th>\n",
       "      <td>635</td>\n",
       "      <td>2021-02-01 00:07:55.9390</td>\n",
       "      <td>2021-02-01 00:18:31.0390</td>\n",
       "      <td>502</td>\n",
       "      <td>Henry St &amp; Grand St</td>\n",
       "      <td>40.714211</td>\n",
       "      <td>-73.981095</td>\n",
       "      <td>411</td>\n",
       "      <td>E 6 St &amp; Avenue D</td>\n",
       "      <td>40.722281</td>\n",
       "      <td>-73.976687</td>\n",
       "      <td>49319</td>\n",
       "      <td>Subscriber</td>\n",
       "      <td>1980</td>\n",
       "      <td>2</td>\n",
       "    </tr>\n",
       "    <tr>\n",
       "      <th>3</th>\n",
       "      <td>758</td>\n",
       "      <td>2021-02-01 00:08:42.0960</td>\n",
       "      <td>2021-02-01 00:21:20.7820</td>\n",
       "      <td>3136</td>\n",
       "      <td>5 Ave &amp; E 63 St</td>\n",
       "      <td>40.766368</td>\n",
       "      <td>-73.971518</td>\n",
       "      <td>3284</td>\n",
       "      <td>E 88 St &amp; Park Ave</td>\n",
       "      <td>40.781411</td>\n",
       "      <td>-73.955959</td>\n",
       "      <td>48091</td>\n",
       "      <td>Customer</td>\n",
       "      <td>1969</td>\n",
       "      <td>0</td>\n",
       "    </tr>\n",
       "    <tr>\n",
       "      <th>4</th>\n",
       "      <td>522</td>\n",
       "      <td>2021-02-01 00:09:32.6820</td>\n",
       "      <td>2021-02-01 00:18:15.4100</td>\n",
       "      <td>505</td>\n",
       "      <td>6 Ave &amp; W 33 St</td>\n",
       "      <td>40.749013</td>\n",
       "      <td>-73.988484</td>\n",
       "      <td>3687</td>\n",
       "      <td>E 33 St &amp; 1 Ave</td>\n",
       "      <td>40.743227</td>\n",
       "      <td>-73.974498</td>\n",
       "      <td>48596</td>\n",
       "      <td>Subscriber</td>\n",
       "      <td>1988</td>\n",
       "      <td>1</td>\n",
       "    </tr>\n",
       "  </tbody>\n",
       "</table>\n",
       "</div>"
      ],
      "text/plain": [
       "   tripduration                 starttime                  stoptime  \\\n",
       "0           304  2021-02-01 00:04:23.0780  2021-02-01 00:09:27.7920   \n",
       "1           370  2021-02-01 00:07:08.8080  2021-02-01 00:13:19.4670   \n",
       "2           635  2021-02-01 00:07:55.9390  2021-02-01 00:18:31.0390   \n",
       "3           758  2021-02-01 00:08:42.0960  2021-02-01 00:21:20.7820   \n",
       "4           522  2021-02-01 00:09:32.6820  2021-02-01 00:18:15.4100   \n",
       "\n",
       "   start station id       start station name  start station latitude  \\\n",
       "0              3175  W 70 St & Amsterdam Ave               40.777480   \n",
       "1              3154          E 77 St & 3 Ave               40.773142   \n",
       "2               502      Henry St & Grand St               40.714211   \n",
       "3              3136          5 Ave & E 63 St               40.766368   \n",
       "4               505          6 Ave & W 33 St               40.749013   \n",
       "\n",
       "   start station longitude  end station id        end station name  \\\n",
       "0               -73.982886            4045  West End Ave & W 60 St   \n",
       "1               -73.958562            3725         2 Ave & E 72 St   \n",
       "2               -73.981095             411       E 6 St & Avenue D   \n",
       "3               -73.971518            3284      E 88 St & Park Ave   \n",
       "4               -73.988484            3687         E 33 St & 1 Ave   \n",
       "\n",
       "   end station latitude  end station longitude  bikeid    usertype  \\\n",
       "0             40.772370             -73.990050   27451  Subscriber   \n",
       "1             40.768762             -73.958408   35000  Subscriber   \n",
       "2             40.722281             -73.976687   49319  Subscriber   \n",
       "3             40.781411             -73.955959   48091    Customer   \n",
       "4             40.743227             -73.974498   48596  Subscriber   \n",
       "\n",
       "   birth year  gender  \n",
       "0        1996       2  \n",
       "1        1991       1  \n",
       "2        1980       2  \n",
       "3        1969       0  \n",
       "4        1988       1  "
      ]
     },
     "execution_count": 2,
     "metadata": {
     },
     "output_type": "execute_result"
    }
   ],
   "source": [
    "data = pd.read_csv('./202102-citibike-tripdata.csv')\n",
    "data.head()"
   ]
  },
  {
   "cell_type": "markdown",
   "metadata": {
    "collapsed": false
   },
   "source": [
    "## Feature Extraction"
   ]
  },
  {
   "cell_type": "code",
   "execution_count": 3,
   "metadata": {
    "collapsed": false
   },
   "outputs": [
   ],
   "source": [
    "data['starttime'] = pd.to_datetime(data['starttime'])\n",
    "data['stoptime'] = pd.to_datetime(data['stoptime'])\n",
    "\n",
    "data['dayofweek'] = data['starttime'].dt.dayofweek\n",
    "data['hourofday'] = data['starttime'].dt.hour\n",
    "data['year'] = data['starttime'].dt.year"
   ]
  },
  {
   "cell_type": "markdown",
   "metadata": {
    "collapsed": false
   },
   "source": [
    "## Feature Transformation"
   ]
  },
  {
   "cell_type": "code",
   "execution_count": 4,
   "metadata": {
    "collapsed": false
   },
   "outputs": [
   ],
   "source": [
    "data['duration_min'] = data['tripduration']/60"
   ]
  },
  {
   "cell_type": "markdown",
   "metadata": {
    "collapsed": false
   },
   "source": [
    "## Feature Generation"
   ]
  },
  {
   "cell_type": "code",
   "execution_count": 5,
   "metadata": {
    "collapsed": false
   },
   "outputs": [
    {
     "data": {
      "text/html": [
       "<div>\n",
       "<style scoped>\n",
       "    .dataframe tbody tr th:only-of-type {\n",
       "        vertical-align: middle;\n",
       "    }\n",
       "\n",
       "    .dataframe tbody tr th {\n",
       "        vertical-align: top;\n",
       "    }\n",
       "\n",
       "    .dataframe thead th {\n",
       "        text-align: right;\n",
       "    }\n",
       "</style>\n",
       "<table border=\"1\" class=\"dataframe\">\n",
       "  <thead>\n",
       "    <tr style=\"text-align: right;\">\n",
       "      <th></th>\n",
       "      <th>tripduration</th>\n",
       "      <th>starttime</th>\n",
       "      <th>stoptime</th>\n",
       "      <th>start station id</th>\n",
       "      <th>start station name</th>\n",
       "      <th>start station latitude</th>\n",
       "      <th>start station longitude</th>\n",
       "      <th>end station id</th>\n",
       "      <th>end station name</th>\n",
       "      <th>end station latitude</th>\n",
       "      <th>end station longitude</th>\n",
       "      <th>bikeid</th>\n",
       "      <th>usertype</th>\n",
       "      <th>birth year</th>\n",
       "      <th>gender</th>\n",
       "      <th>dayofweek</th>\n",
       "      <th>hourofday</th>\n",
       "      <th>year</th>\n",
       "      <th>duration_min</th>\n",
       "      <th>age</th>\n",
       "    </tr>\n",
       "  </thead>\n",
       "  <tbody>\n",
       "    <tr>\n",
       "      <th>0</th>\n",
       "      <td>304</td>\n",
       "      <td>2021-02-01 00:04:23.078</td>\n",
       "      <td>2021-02-01 00:09:27.792</td>\n",
       "      <td>3175</td>\n",
       "      <td>W 70 St &amp; Amsterdam Ave</td>\n",
       "      <td>40.777480</td>\n",
       "      <td>-73.982886</td>\n",
       "      <td>4045</td>\n",
       "      <td>West End Ave &amp; W 60 St</td>\n",
       "      <td>40.772370</td>\n",
       "      <td>-73.990050</td>\n",
       "      <td>27451</td>\n",
       "      <td>Subscriber</td>\n",
       "      <td>1996</td>\n",
       "      <td>2</td>\n",
       "      <td>0</td>\n",
       "      <td>0</td>\n",
       "      <td>2021</td>\n",
       "      <td>5.066667</td>\n",
       "      <td>25</td>\n",
       "    </tr>\n",
       "    <tr>\n",
       "      <th>1</th>\n",
       "      <td>370</td>\n",
       "      <td>2021-02-01 00:07:08.808</td>\n",
       "      <td>2021-02-01 00:13:19.467</td>\n",
       "      <td>3154</td>\n",
       "      <td>E 77 St &amp; 3 Ave</td>\n",
       "      <td>40.773142</td>\n",
       "      <td>-73.958562</td>\n",
       "      <td>3725</td>\n",
       "      <td>2 Ave &amp; E 72 St</td>\n",
       "      <td>40.768762</td>\n",
       "      <td>-73.958408</td>\n",
       "      <td>35000</td>\n",
       "      <td>Subscriber</td>\n",
       "      <td>1991</td>\n",
       "      <td>1</td>\n",
       "      <td>0</td>\n",
       "      <td>0</td>\n",
       "      <td>2021</td>\n",
       "      <td>6.166667</td>\n",
       "      <td>30</td>\n",
       "    </tr>\n",
       "    <tr>\n",
       "      <th>2</th>\n",
       "      <td>635</td>\n",
       "      <td>2021-02-01 00:07:55.939</td>\n",
       "      <td>2021-02-01 00:18:31.039</td>\n",
       "      <td>502</td>\n",
       "      <td>Henry St &amp; Grand St</td>\n",
       "      <td>40.714211</td>\n",
       "      <td>-73.981095</td>\n",
       "      <td>411</td>\n",
       "      <td>E 6 St &amp; Avenue D</td>\n",
       "      <td>40.722281</td>\n",
       "      <td>-73.976687</td>\n",
       "      <td>49319</td>\n",
       "      <td>Subscriber</td>\n",
       "      <td>1980</td>\n",
       "      <td>2</td>\n",
       "      <td>0</td>\n",
       "      <td>0</td>\n",
       "      <td>2021</td>\n",
       "      <td>10.583333</td>\n",
       "      <td>41</td>\n",
       "    </tr>\n",
       "    <tr>\n",
       "      <th>3</th>\n",
       "      <td>758</td>\n",
       "      <td>2021-02-01 00:08:42.096</td>\n",
       "      <td>2021-02-01 00:21:20.782</td>\n",
       "      <td>3136</td>\n",
       "      <td>5 Ave &amp; E 63 St</td>\n",
       "      <td>40.766368</td>\n",
       "      <td>-73.971518</td>\n",
       "      <td>3284</td>\n",
       "      <td>E 88 St &amp; Park Ave</td>\n",
       "      <td>40.781411</td>\n",
       "      <td>-73.955959</td>\n",
       "      <td>48091</td>\n",
       "      <td>Customer</td>\n",
       "      <td>1969</td>\n",
       "      <td>0</td>\n",
       "      <td>0</td>\n",
       "      <td>0</td>\n",
       "      <td>2021</td>\n",
       "      <td>12.633333</td>\n",
       "      <td>52</td>\n",
       "    </tr>\n",
       "    <tr>\n",
       "      <th>4</th>\n",
       "      <td>522</td>\n",
       "      <td>2021-02-01 00:09:32.682</td>\n",
       "      <td>2021-02-01 00:18:15.410</td>\n",
       "      <td>505</td>\n",
       "      <td>6 Ave &amp; W 33 St</td>\n",
       "      <td>40.749013</td>\n",
       "      <td>-73.988484</td>\n",
       "      <td>3687</td>\n",
       "      <td>E 33 St &amp; 1 Ave</td>\n",
       "      <td>40.743227</td>\n",
       "      <td>-73.974498</td>\n",
       "      <td>48596</td>\n",
       "      <td>Subscriber</td>\n",
       "      <td>1988</td>\n",
       "      <td>1</td>\n",
       "      <td>0</td>\n",
       "      <td>0</td>\n",
       "      <td>2021</td>\n",
       "      <td>8.700000</td>\n",
       "      <td>33</td>\n",
       "    </tr>\n",
       "  </tbody>\n",
       "</table>\n",
       "</div>"
      ],
      "text/plain": [
       "   tripduration               starttime                stoptime  \\\n",
       "0           304 2021-02-01 00:04:23.078 2021-02-01 00:09:27.792   \n",
       "1           370 2021-02-01 00:07:08.808 2021-02-01 00:13:19.467   \n",
       "2           635 2021-02-01 00:07:55.939 2021-02-01 00:18:31.039   \n",
       "3           758 2021-02-01 00:08:42.096 2021-02-01 00:21:20.782   \n",
       "4           522 2021-02-01 00:09:32.682 2021-02-01 00:18:15.410   \n",
       "\n",
       "   start station id       start station name  start station latitude  \\\n",
       "0              3175  W 70 St & Amsterdam Ave               40.777480   \n",
       "1              3154          E 77 St & 3 Ave               40.773142   \n",
       "2               502      Henry St & Grand St               40.714211   \n",
       "3              3136          5 Ave & E 63 St               40.766368   \n",
       "4               505          6 Ave & W 33 St               40.749013   \n",
       "\n",
       "   start station longitude  end station id        end station name  \\\n",
       "0               -73.982886            4045  West End Ave & W 60 St   \n",
       "1               -73.958562            3725         2 Ave & E 72 St   \n",
       "2               -73.981095             411       E 6 St & Avenue D   \n",
       "3               -73.971518            3284      E 88 St & Park Ave   \n",
       "4               -73.988484            3687         E 33 St & 1 Ave   \n",
       "\n",
       "   end station latitude  end station longitude  bikeid    usertype  \\\n",
       "0             40.772370             -73.990050   27451  Subscriber   \n",
       "1             40.768762             -73.958408   35000  Subscriber   \n",
       "2             40.722281             -73.976687   49319  Subscriber   \n",
       "3             40.781411             -73.955959   48091    Customer   \n",
       "4             40.743227             -73.974498   48596  Subscriber   \n",
       "\n",
       "   birth year  gender  dayofweek  hourofday  year  duration_min  age  \n",
       "0        1996       2          0          0  2021      5.066667   25  \n",
       "1        1991       1          0          0  2021      6.166667   30  \n",
       "2        1980       2          0          0  2021     10.583333   41  \n",
       "3        1969       0          0          0  2021     12.633333   52  \n",
       "4        1988       1          0          0  2021      8.700000   33  "
      ]
     },
     "execution_count": 5,
     "metadata": {
     },
     "output_type": "execute_result"
    }
   ],
   "source": [
    "data['age'] = data['starttime'].dt.year - data['birth year']\n",
    "data.head()"
   ]
  },
  {
   "cell_type": "markdown",
   "metadata": {
    "collapsed": false
   },
   "source": [
    "#### Distance\n",
    "\n",
    "Another feature we can generate from the data is distance. Although the provided values are in longitude and latitudes and they're measured in degrees, the distance calculated from these points would also be in degrees (and not meters). \n",
    "\n",
    "There's actually a library that specifically handles geospatial data called `geopy` ([Link](https://geopy.readthedocs.io/en/stable/#module-geopy.distance)). For simplicity sake in this tutorial, we use an existing function that calculates the geodesic distance using the Haversine formula given the starting and ending longitude and latitudes: `calculate_distance(lat1, lon1, lat2, lon2)`\n",
    "\n",
    "Credits to [Wayne Dyck](https://gist.github.com/rochacbruno/2883505) for the function."
   ]
  },
  {
   "cell_type": "code",
   "execution_count": 6,
   "metadata": {
    "collapsed": false
   },
   "outputs": [
   ],
   "source": [
    "def calculate_distance(lat1, lon1, lat2, lon2):\n",
    "    \"\"\"\n",
    "    Calculates the distance provided a pair of longitudes and latitudes\n",
    "    using the Haversine formula\n",
    "    \n",
    "    Returns the distance in kilometers.\n",
    "    \"\"\"\n",
    "    radius = 6371 # km\n",
    "\n",
    "    dlat = math.radians(lat2-lat1)\n",
    "    dlon = math.radians(lon2-lon1)\n",
    "    a = math.sin(dlat/2) * math.sin(dlat/2) + math.cos(math.radians(lat1)) \\\n",
    "        * math.cos(math.radians(lat2)) * math.sin(dlon/2) * math.sin(dlon/2)\n",
    "    c = 2 * math.atan2(math.sqrt(a), math.sqrt(1-a))\n",
    "    d = radius * c\n",
    "\n",
    "    return d"
   ]
  },
  {
   "cell_type": "code",
   "execution_count": 0,
   "metadata": {
    "collapsed": false
   },
   "outputs": [
   ],
   "source": [
    "data['distance_km'] = data.apply(lambda x: calculate_distance(x['start station latitude'], x['start station longitude'],\n",
    "                                        x['end station latitude'], x['end station longitude']), axis=1)"
   ]
  },
  {
   "cell_type": "markdown",
   "metadata": {
    "collapsed": false
   },
   "source": [
    "# Exploratory Data Analysis\n",
    "\n",
    "We will do the following:\n",
    "1. Examine the size and structure of the data\n",
    "2. Examine each field individually\n",
    "3. Examine relationships/correlations\n",
    "4. Identify anomalies/outliers"
   ]
  },
  {
   "cell_type": "markdown",
   "metadata": {
    "collapsed": false
   },
   "source": [
    "## 1. Size and structure of the data"
   ]
  },
  {
   "cell_type": "code",
   "execution_count": 0,
   "metadata": {
    "collapsed": false
   },
   "outputs": [
   ],
   "source": [
    "data.shape"
   ]
  },
  {
   "cell_type": "markdown",
   "metadata": {
    "collapsed": false
   },
   "source": [
    "After feater transformations, the dataset now has 634,631 observations with 21 variables."
   ]
  },
  {
   "cell_type": "code",
   "execution_count": 0,
   "metadata": {
    "collapsed": false
   },
   "outputs": [
   ],
   "source": [
    "data.info()"
   ]
  },
  {
   "cell_type": "markdown",
   "metadata": {
    "collapsed": false
   },
   "source": [
    "The dataset has a variety of datatypes: integer and float values, date and time, and strings. There are no variables with null/missing values."
   ]
  },
  {
   "cell_type": "code",
   "execution_count": 0,
   "metadata": {
    "collapsed": false
   },
   "outputs": [
   ],
   "source": [
    "# Get descriptive statistics of quantitative variables\n",
    "data.describe()"
   ]
  },
  {
   "cell_type": "markdown",
   "metadata": {
    "collapsed": false
   },
   "source": [
    "Although these variables are all quantitative, it doesn't really make sense to look at the statistics for unique IDs and spatial data like `start station id`, `start station latitude`, `start station longitude`, and `bikeid`, among others. Here, we will just focus on the values for `birth year`, `duration_min`, `age`, and `distance_km`.\n",
    "\n",
    "Few insights from the `data.describe()` function:\n",
    "\n",
    "1. The minimum `birth year` is 1885 which has a remarkably large difference from the 25th percentile value. Can this be anomalous data?\n",
    "2. There is a very large difference between the maximum and 75th percentile values of `duration_min` and `age`.\n",
    "3. Observations #1 & #2 indicate possible outliers in the data. "
   ]
  },
  {
   "cell_type": "code",
   "execution_count": 0,
   "metadata": {
    "collapsed": false
   },
   "outputs": [
   ],
   "source": [
    "data.describe(include=np.object)"
   ]
  },
  {
   "cell_type": "markdown",
   "metadata": {
    "collapsed": false
   },
   "source": [
    "These are the descriptive stats for the categorical variables. "
   ]
  },
  {
   "cell_type": "markdown",
   "metadata": {
    "collapsed": false
   },
   "source": [
    "## 2. Examining individual variables\n",
    "\n",
    "Now, we can start generating simple visualizations to help us better understand the values in each variable."
   ]
  },
  {
   "cell_type": "markdown",
   "metadata": {
    "collapsed": false
   },
   "source": [
    "#### User type"
   ]
  },
  {
   "cell_type": "code",
   "execution_count": 0,
   "metadata": {
    "collapsed": false
   },
   "outputs": [
   ],
   "source": [
    "sns.set_theme(style=\"whitegrid\")\n",
    "\n",
    "usertype_plot = sns.catplot(x=\"usertype\", kind=\"count\", order=[\"Customer\", \"Subscriber\"], data=data)"
   ]
  },
  {
   "cell_type": "markdown",
   "metadata": {
    "collapsed": false
   },
   "source": [
    "There are more one-time users of CitiBike than there are subscribers."
   ]
  },
  {
   "cell_type": "markdown",
   "metadata": {
    "collapsed": false
   },
   "source": [
    "#### Age"
   ]
  },
  {
   "cell_type": "code",
   "execution_count": 0,
   "metadata": {
    "collapsed": false
   },
   "outputs": [
   ],
   "source": [
    "age_plot = sns.catplot(x=\"age\", kind=\"count\", data=data)\n",
    "age_plot.set(ylim=(0,7500)) # Limit the maximum y-axis value because of one outlier count for age 52"
   ]
  },
  {
   "cell_type": "code",
   "execution_count": 0,
   "metadata": {
    "collapsed": false
   },
   "outputs": [
   ],
   "source": [
    "data[\"age\"].value_counts()"
   ]
  },
  {
   "cell_type": "markdown",
   "metadata": {
    "collapsed": false
   },
   "source": [
    "#### Starting Stations"
   ]
  },
  {
   "cell_type": "code",
   "execution_count": 0,
   "metadata": {
    "collapsed": false
   },
   "outputs": [
   ],
   "source": [
    "start_stations = data[\"start station name\"].value_counts().rename_axis('Station name').reset_index(name='counts')\n",
    "start_stations = start_stations.nlargest(10, 'counts')\n",
    "start_stations"
   ]
  },
  {
   "cell_type": "code",
   "execution_count": 0,
   "metadata": {
    "collapsed": false
   },
   "outputs": [
   ],
   "source": [
    "start_station_plot = sns.catplot(y=\"Station name\", x=\"counts\", orient=\"h\", kind=\"bar\", data=start_stations)"
   ]
  },
  {
   "cell_type": "markdown",
   "metadata": {
    "collapsed": false
   },
   "source": [
    "#### Ending stations"
   ]
  },
  {
   "cell_type": "code",
   "execution_count": 0,
   "metadata": {
    "collapsed": false
   },
   "outputs": [
   ],
   "source": [
    "end_stations = data[\"end station name\"].value_counts().rename_axis('Station name').reset_index(name='counts')\n",
    "end_stations = end_stations.nlargest(10, 'counts')\n",
    "end_stations"
   ]
  },
  {
   "cell_type": "code",
   "execution_count": 0,
   "metadata": {
    "collapsed": false
   },
   "outputs": [
   ],
   "source": [
    "end_station_plot = sns.catplot(y=\"Station name\", x=\"counts\", orient=\"h\", kind=\"bar\", data=end_stations)"
   ]
  },
  {
   "cell_type": "markdown",
   "metadata": {
    "collapsed": false
   },
   "source": [
    "We can see from both plots that the top 10 start and end stations are consistent with each other. This indicates high taffic areas which can be potential locations for adding more bikes and bike docks. "
   ]
  },
  {
   "cell_type": "markdown",
   "metadata": {
    "collapsed": false
   },
   "source": [
    "#### Origin-Destination Pairs\n",
    "\n",
    "Here we create `od_trips` which contains the origin-destination pairs derived from the unique pairs of `start station name` and `end station name`."
   ]
  },
  {
   "cell_type": "code",
   "execution_count": 0,
   "metadata": {
    "collapsed": false
   },
   "outputs": [
   ],
   "source": [
    "## Count of rides per OD\n",
    "od_trips = data.groupby(['start station name', 'end station name'], as_index=False)['bikeid'].count()\n",
    "od_trips = od_trips.rename(columns={\"start station name\": \"start\", \"end station name\": \"end\", \"bikeid\": \"total_trips\"}, errors=\"raise\")\n",
    "od_trips.head()"
   ]
  },
  {
   "cell_type": "code",
   "execution_count": 0,
   "metadata": {
    "collapsed": false
   },
   "outputs": [
   ],
   "source": [
    "od_trips[\"od\"] = od_trips[\"start\"] + \" to \" + od_trips[\"end\"]\n",
    "od_trips"
   ]
  },
  {
   "cell_type": "code",
   "execution_count": 0,
   "metadata": {
    "collapsed": false
   },
   "outputs": [
   ],
   "source": [
    "od_rank_plot = sns.catplot(y=\"od\", x=\"total_trips\", orient=\"h\", kind=\"bar\", data=od_trips.nlargest(10, \"total_trips\"))"
   ]
  },
  {
   "cell_type": "markdown",
   "metadata": {
    "collapsed": false
   },
   "source": [
    "#### Origin-Destination Matrix\n",
    "\n",
    "In this part, we focus on analyzing the number of trips between the top 10 `start` and `end` stations. It would be impossible to visually analyze for all possible pairs because the dataset is too big."
   ]
  },
  {
   "cell_type": "code",
   "execution_count": 0,
   "metadata": {
    "collapsed": false
   },
   "outputs": [
   ],
   "source": [
    "# Get the trips between the top 10 stations.\n",
    "\n",
    "od_topten = od_trips[od_trips.start.isin(start_stations[\"Station name\"]) & od_trips.end.isin(end_stations[\"Station name\"])]\n",
    "od_topten"
   ]
  },
  {
   "cell_type": "code",
   "execution_count": 0,
   "metadata": {
    "collapsed": false
   },
   "outputs": [
   ],
   "source": [
    "# Create a matrix\n",
    "\n",
    "od_matrix = pd.pivot_table(od_topten, index='start', columns='end', values='total_trips', aggfunc=np.sum, fill_value=0)\n",
    "od_matrix"
   ]
  },
  {
   "cell_type": "code",
   "execution_count": 0,
   "metadata": {
    "collapsed": false
   },
   "outputs": [
   ],
   "source": [
    "# Generate a heatmap\n",
    "\n",
    "od_heatmap = sns.heatmap(od_matrix)"
   ]
  },
  {
   "cell_type": "code",
   "execution_count": 0,
   "metadata": {
    "collapsed": false
   },
   "outputs": [
   ],
   "source": [
    "# Change color palette\n",
    "\n",
    "od_heatmap = sns.heatmap(od_matrix, cmap=\"YlGnBu\", annot=True, fmt=\"d\")"
   ]
  },
  {
   "cell_type": "markdown",
   "metadata": {
    "collapsed": false
   },
   "source": [
    "#### Gender"
   ]
  },
  {
   "cell_type": "code",
   "execution_count": 0,
   "metadata": {
    "collapsed": false
   },
   "outputs": [
   ],
   "source": [
    "gender_plot = sns.catplot(x=\"gender\", kind=\"count\", order=[1, 2, 0], data=data)"
   ]
  },
  {
   "cell_type": "markdown",
   "metadata": {
    "collapsed": false
   },
   "source": [
    "It seems that the dataset contains mostly zero (0) values for the gender. We can continue our analysis by removing those trips with unknown gender."
   ]
  },
  {
   "cell_type": "code",
   "execution_count": 0,
   "metadata": {
    "collapsed": false
   },
   "outputs": [
   ],
   "source": [
    "gender_plot = sns.catplot(x=\"gender\", kind=\"count\", order=[1, 2], data=data[data[\"gender\"] > 0])"
   ]
  },
  {
   "cell_type": "markdown",
   "metadata": {
    "collapsed": false
   },
   "source": [
    "#### Day of week"
   ]
  },
  {
   "cell_type": "code",
   "execution_count": 0,
   "metadata": {
    "collapsed": false
   },
   "outputs": [
   ],
   "source": [
    "dow_plot = sns.catplot(x=\"dayofweek\", kind=\"count\", data=data)"
   ]
  },
  {
   "cell_type": "markdown",
   "metadata": {
    "collapsed": false
   },
   "source": [
    "The values for `dayofweek` starts with `0` or `Monday` and ends with `6` or `Sunday`. Based on the bar plot above, most trips happen on Wednesdays, Fridays and Saturdays."
   ]
  },
  {
   "cell_type": "markdown",
   "metadata": {
    "collapsed": false
   },
   "source": [
    "#### Hour of day"
   ]
  },
  {
   "cell_type": "code",
   "execution_count": 0,
   "metadata": {
    "collapsed": false
   },
   "outputs": [
   ],
   "source": [
    "hod_plot = sns.catplot(x=\"hourofday\", kind=\"count\", data=data)"
   ]
  },
  {
   "cell_type": "markdown",
   "metadata": {
    "collapsed": false
   },
   "source": [
    "From the plot, the number of trips starts increasing from 12 noon and peaks at 5PM. "
   ]
  },
  {
   "cell_type": "markdown",
   "metadata": {
    "collapsed": false
   },
   "source": [
    "#### Duration in minutes"
   ]
  },
  {
   "cell_type": "code",
   "execution_count": 0,
   "metadata": {
    "collapsed": false
   },
   "outputs": [
   ],
   "source": [
    "data[\"duration_min\"].describe()"
   ]
  },
  {
   "cell_type": "markdown",
   "metadata": {
    "collapsed": false
   },
   "source": [
    "#### Detect and remove outliers\n",
    "\n",
    "Outliers are defined as values that is more than 3 standard deviations away from the mean. Here, we detect them by computing the z score of each value, which is relative to the mean and standard deviation."
   ]
  },
  {
   "cell_type": "code",
   "execution_count": 0,
   "metadata": {
    "collapsed": false
   },
   "outputs": [
   ],
   "source": [
    "z_scores = zscore(data[\"duration_min\"]) \n",
    "\n",
    "# Get their absolute values for easy filtering\n",
    "abs_z_scores = np.abs(z_scores)\n",
    "\n",
    "# An array of boolean values with same length as the original dataset. \n",
    "# True if value is less than 3 standard deviations from the mean or not an outlier. Otherwise, False.\n",
    "filtered_entries = (abs_z_scores < 3) \n",
    "\n",
    "# Array of boolean values where value is True if it is an outlier, otherwise False.\n",
    "duration_min_outliers = (abs_z_scores >= 3)\n",
    "data[duration_min_outliers].duration_min # Show outlier values"
   ]
  },
  {
   "cell_type": "markdown",
   "metadata": {
    "collapsed": false
   },
   "source": [
    "#### Histograms with KDE"
   ]
  },
  {
   "cell_type": "code",
   "execution_count": 0,
   "metadata": {
    "collapsed": false
   },
   "outputs": [
   ],
   "source": [
    "duration_plot = sns.displot(data=data[filtered_entries], x=\"duration_min\", kde=True)"
   ]
  },
  {
   "cell_type": "code",
   "execution_count": 0,
   "metadata": {
    "collapsed": false
   },
   "outputs": [
   ],
   "source": [
    "# Zoom in a little closer. Let's limit the x-axis to only show values up to 200\n",
    "\n",
    "duration_plot = sns.displot(data=data[filtered_entries], x=\"duration_min\", kde=True)\n",
    "duration_plot.set(xlim=(0, 200))"
   ]
  },
  {
   "cell_type": "code",
   "execution_count": 0,
   "metadata": {
    "collapsed": false
   },
   "outputs": [
   ],
   "source": [
    "# Zoom in more. Let's limit the x-axis to only show values up to 100\n",
    "\n",
    "duration_plot = sns.displot(data=data[filtered_entries], x=\"duration_min\", kde=True)\n",
    "duration_plot.set(xlim=(0, 100))"
   ]
  },
  {
   "cell_type": "markdown",
   "metadata": {
    "collapsed": false
   },
   "source": [
    "#### ECDF with Rug Plots"
   ]
  },
  {
   "cell_type": "code",
   "execution_count": 0,
   "metadata": {
    "collapsed": false
   },
   "outputs": [
   ],
   "source": [
    "duration_plot = sns.displot(data=data[filtered_entries], x=\"duration_min\", kind=\"ecdf\", rug=True)\n",
    "duration_plot.set(xlim=(0, 100))"
   ]
  },
  {
   "cell_type": "markdown",
   "metadata": {
    "collapsed": false
   },
   "source": [
    "## 3. Examine relationships/correlations"
   ]
  },
  {
   "cell_type": "markdown",
   "metadata": {
    "collapsed": false
   },
   "source": [
    "### User type and gender"
   ]
  },
  {
   "cell_type": "code",
   "execution_count": 0,
   "metadata": {
    "collapsed": false
   },
   "outputs": [
   ],
   "source": [
    "usertype_gender_plot = sns.catplot(x=\"gender\", \n",
    "                                   kind=\"count\", \n",
    "                                   hue=\"usertype\", \n",
    "                                   palette={\"Customer\": \"g\", \"Subscriber\": \"m\"}, \n",
    "                                   data=data)"
   ]
  },
  {
   "cell_type": "markdown",
   "metadata": {
    "collapsed": false
   },
   "source": [
    "- Users with 24-hour pass or 3-day passes did not have their gender information recorded.\n",
    "- More male subscribers than females. "
   ]
  },
  {
   "cell_type": "markdown",
   "metadata": {
    "collapsed": false
   },
   "source": [
    "### Trip distance, duration and user type"
   ]
  },
  {
   "cell_type": "code",
   "execution_count": 0,
   "metadata": {
    "collapsed": false
   },
   "outputs": [
   ],
   "source": [
    "dur_dist_user_plot = sns.jointplot(data=data[filtered_entries], \n",
    "                                   x=\"duration_min\", \n",
    "                                   y=\"distance_km\", \n",
    "                                   hue=\"usertype\", \n",
    "                                   palette={\"Customer\": \"g\", \"Subscriber\": \"m\"}, \n",
    "                                   alpha=0.5)\n",
    "dur_dist_user_plot.set_axis_labels(\"Trip duration (min)\", \"Trip distance (km)\", labelpad=10)\n",
    "dur_dist_user_plot.fig.set_size_inches(10.5, 6.5)"
   ]
  },
  {
   "cell_type": "code",
   "execution_count": 0,
   "metadata": {
    "collapsed": false
   },
   "outputs": [
   ],
   "source": [
    "z_scores = zscore(data[\"distance_km\"]) \n",
    "\n",
    "# Get their absolute values for easy filtering\n",
    "abs_z_scores = np.abs(z_scores)\n",
    "\n",
    "# An array of boolean values with same length as the original dataset. \n",
    "# True if value is less than 3 standard deviations from the mean or not an outlier. Otherwise, False.\n",
    "filtered_dist = (abs_z_scores < 3) \n",
    "\n",
    "# Array of boolean values where value is True if it is an outlier, otherwise False.\n",
    "dist_outliers = (abs_z_scores >= 3)\n",
    "data[dist_outliers].distance_km # Show outlier values"
   ]
  },
  {
   "cell_type": "code",
   "execution_count": 0,
   "metadata": {
    "collapsed": false
   },
   "outputs": [
   ],
   "source": [
    "# Plot with outliers for both duration and distance\n",
    "dur_dist_user_plot = sns.jointplot(data=data[filtered_entries & filtered_dist], \n",
    "                                   x=\"duration_min\", \n",
    "                                   y=\"distance_km\", \n",
    "                                   hue=\"usertype\", \n",
    "                                   palette={\"Customer\": \"g\", \"Subscriber\": \"m\"}, \n",
    "                                   alpha=0.5)\n",
    "dur_dist_user_plot.set_axis_labels(\"Trip duration (min)\", \"Trip distance (km)\", labelpad=10)\n",
    "dur_dist_user_plot.fig.set_size_inches(10.5, 6.5)"
   ]
  },
  {
   "cell_type": "markdown",
   "metadata": {
    "collapsed": false
   },
   "source": [
    "### Get correlation between quantitative variables"
   ]
  },
  {
   "cell_type": "code",
   "execution_count": 0,
   "metadata": {
    "collapsed": false
   },
   "outputs": [
   ],
   "source": [
    "data_to_corr = data[[\"gender\", \"duration_min\", \"age\", \"distance_km\"]]\n",
    "data_to_corr"
   ]
  },
  {
   "cell_type": "code",
   "execution_count": 0,
   "metadata": {
    "collapsed": false
   },
   "outputs": [
   ],
   "source": [
    "# Get z scores of the following variables\n",
    "z_scores = zscore(data_to_corr[[\"duration_min\", \"age\", \"distance_km\"]]) \n",
    "\n",
    "# Get their absolute values for easy filtering\n",
    "abs_z_scores = np.abs(z_scores)\n",
    "\n",
    "# An array of boolean values with same length as the original dataset. \n",
    "# True if value is less than 3 standard deviations from the mean or not an outlier. Otherwise, False.\n",
    "filtered_rows = (abs_z_scores < 3).all(axis=1) \n",
    "\n",
    "# Array of boolean values where value is True if it is an outlier, otherwise False.\n",
    "data_to_corr_outliers = (abs_z_scores >= 3)\n",
    "data_to_corr[data_to_corr_outliers] # Show outlier values"
   ]
  },
  {
   "cell_type": "code",
   "execution_count": 0,
   "metadata": {
    "collapsed": false
   },
   "outputs": [
   ],
   "source": [
    "# Remove outliers\n",
    "data_to_corr = data_to_corr[filtered_rows]"
   ]
  },
  {
   "cell_type": "markdown",
   "metadata": {
    "collapsed": false
   },
   "source": [
    "#### Correlation Heatmap"
   ]
  },
  {
   "cell_type": "code",
   "execution_count": 0,
   "metadata": {
    "collapsed": false
   },
   "outputs": [
   ],
   "source": [
    "data_corr_heatmap = sns.heatmap(data_to_corr.corr(), \n",
    "                                center=0, \n",
    "                                cmap=\"YlGnBu\", \n",
    "                                annot=True, \n",
    "                                vmin=-1, \n",
    "                                vmax=1)"
   ]
  },
  {
   "cell_type": "code",
   "execution_count": 0,
   "metadata": {
    "collapsed": false
   },
   "outputs": [
   ],
   "source": [
    "mask = np.triu(np.ones_like(data_to_corr.corr(), dtype=bool))\n",
    "\n",
    "data_corr_heatmap = sns.heatmap(data_to_corr.corr(), \n",
    "                                center=0, \n",
    "                                cmap=\"YlGnBu\", \n",
    "                                annot=True, \n",
    "                                mask=mask,\n",
    "                                vmin=-1, \n",
    "                                vmax=1)"
   ]
  },
  {
   "cell_type": "markdown",
   "metadata": {
    "collapsed": false
   },
   "source": [
    "Variables `distance_km` and `duration_min` showed some positive correlation. We can still include them as features in a modeling task later."
   ]
  },
  {
   "cell_type": "markdown",
   "metadata": {
    "collapsed": false
   },
   "source": [
    "----\n",
    "----\n",
    "\n",
    "# Exercise Proper: Continuation of EDA\n",
    "\n",
    "We are already done in examining the individual characteristics of each variable in the dataset. You're task is to continue examining the remaining relationships (bivariate/multivariate) between variables. Here are some that you can prioritize:\n",
    "\n",
    "- Bivariate: Trip duration & time of day\n",
    "- Bivariate: User type & age\n",
    "- Bivariate: Start station & user type\n",
    "- Bivariate: End station & user type\n",
    "- Bivariate: End station & gender\n",
    "- Multi: Start station, end station & trip duration\n",
    "- Multi: Start station, end station & unique users\n",
    "- Multi: Start station, end station & user type\n",
    "- Multi: Trip distance, duration & gender\n",
    "- Multi: Average trip distance per unique user, average duration per unique user & user type\n",
    "- Multi: Average trip distance per unique user, average duration per unique user, gender & user type\n",
    "\n",
    "After creating simple visualizations for each, write down your observations in a separate cell. You do not have to interpret yet why those relationships appear. We're still doing EDA. Relax ;)"
   ]
  },
  {
   "cell_type": "markdown",
   "metadata": {
    "collapsed": false
   },
   "source": [
    "## Bivariate: Trip duration & time of day"
   ]
  },
  {
   "cell_type": "markdown",
   "metadata": {
    "collapsed": false
   },
   "source": [
    "Create a df with only `duration_min` and `hourofday`."
   ]
  },
  {
   "cell_type": "code",
   "execution_count": 0,
   "metadata": {
    "collapsed": false
   },
   "outputs": [
   ],
   "source": [
    "dur_hour_df = data[[\"duration_min\", \"hourofday\"]]"
   ]
  },
  {
   "cell_type": "code",
   "execution_count": 0,
   "metadata": {
    "collapsed": false
   },
   "outputs": [
   ],
   "source": [
    "dur_hour_sum_df = dur_hour_df[filtered_entries].groupby(\"hourofday\").sum()\n",
    "dur_hour_sum_df"
   ]
  },
  {
   "cell_type": "code",
   "execution_count": 0,
   "metadata": {
    "collapsed": false
   },
   "outputs": [
   ],
   "source": [
    "dur_hour_mean_df = dur_hour_df[filtered_entries].groupby(\"hourofday\").mean()\n",
    "dur_hour_mean_df"
   ]
  },
  {
   "cell_type": "code",
   "execution_count": 0,
   "metadata": {
    "collapsed": false
   },
   "outputs": [
   ],
   "source": [
    "dist_dur_id_type_mean_df = data[filtered_entries & filtered_dist]\n",
    "dist_dur_id_type_mean_df = dist_dur_id_type_mean_df[dist_dur_id_type_mean_df[\"distance_km\"] != 0]\n",
    "dist_dur_id_type_mean_df = dist_dur_id_type_mean_df[[\"bikeid\", \"usertype\", \"duration_min\", \"distance_km\"]].groupby(by=[\"bikeid\", \"usertype\"]).mean()\n",
    "dist_dur_id_type_mean_df"
   ]
  },
  {
   "cell_type": "code",
   "execution_count": 0,
   "metadata": {
    "collapsed": false
   },
   "outputs": [
   ],
   "source": [
    "dur_hour_mean_plot = sns.catplot(x=dur_hour_sum_df.index, y=\"duration_min\", data=dur_hour_mean_df, kind=\"bar\")\n",
    "dur_hour_mean_plot.fig.set_size_inches(15.5, 6.5)"
   ]
  },
  {
   "cell_type": "markdown",
   "metadata": {
    "collapsed": false
   },
   "source": [
   ]
  },
  {
   "cell_type": "markdown",
   "metadata": {
    "collapsed": false
   },
   "source": [
    "## Bivariate: User type & age"
   ]
  },
  {
   "cell_type": "code",
   "execution_count": 0,
   "metadata": {
    "collapsed": false
   },
   "outputs": [
   ],
   "source": [
    "# get the top 10 age of bike users\n",
    "user_age = data[\"age\"].value_counts().rename_axis('age').reset_index(name='counts')\n",
    "user_age = user_age.nlargest(10, 'counts')\n",
    "user_age"
   ]
  },
  {
   "cell_type": "code",
   "execution_count": 0,
   "metadata": {
    "collapsed": false
   },
   "outputs": [
   ],
   "source": [
    "data_user_age = data[data[\"age\"].isin(user_age[\"age\"])]\n",
    "data_user_age"
   ]
  },
  {
   "cell_type": "code",
   "execution_count": 0,
   "metadata": {
    "collapsed": false
   },
   "outputs": [
   ],
   "source": [
    "age_usertype_plot = sns.catplot(y=\"age\",\n",
    "                                kind=\"count\",\n",
    "                                hue=\"usertype\",\n",
    "                                orient=\"h\",\n",
    "                                data=data_user_age)\n",
    "plt.title(\"Top 10 ages in relation to usertype\")"
   ]
  },
  {
   "cell_type": "code",
   "execution_count": 0,
   "metadata": {
    "collapsed": false
   },
   "outputs": [
   ],
   "source": [
    "not_52 = data[data[\"age\"].isin(user_age[\"age\"])]\n",
    "not_52 = not_52[not_52[\"age\"] != 52]\n",
    "not_52[\"age\"].unique()"
   ]
  },
  {
   "cell_type": "code",
   "execution_count": 0,
   "metadata": {
    "collapsed": false
   },
   "outputs": [
   ],
   "source": [
    "age_usertype_plot = sns.catplot(y=\"age\",\n",
    "                                kind=\"count\",\n",
    "                                hue=\"usertype\",\n",
    "                                orient=\"h\",\n",
    "                                data=not_52)\n",
    "plt.title(\"Top 10 ages in relation to usertype (without Age 52)\")"
   ]
  },
  {
   "cell_type": "markdown",
   "metadata": {
    "collapsed": false
   },
   "source": [
    "#### Observations\n",
    "- Most of the riders of February 2021 has an age of 52 and are mostly Customers with a total of 450k rides.\n",
    "- Other than the top 1 spot (52 years old), the other top 9 ages are within the range of late 20s to early 30s and are mostly Subscribers that has a total ranging from 0 to 7000 rides"
   ]
  },
  {
   "cell_type": "markdown",
   "metadata": {
    "collapsed": false
   },
   "source": [
    "## Bivariate: Start station & user type"
   ]
  },
  {
   "cell_type": "code",
   "execution_count": 0,
   "metadata": {
    "collapsed": false
   },
   "outputs": [
   ],
   "source": [
    "data_start_stations = data[data[\"start station name\"].isin(start_stations[\"Station name\"])]\n",
    "data_start_stations"
   ]
  },
  {
   "cell_type": "code",
   "execution_count": 0,
   "metadata": {
    "collapsed": false
   },
   "outputs": [
   ],
   "source": [
    "start_station_usertype_plot = sns.catplot(y=\"start station name\",\n",
    "                                          kind=\"count\",\n",
    "                                          hue=\"usertype\",\n",
    "                                          orient=\"h\",\n",
    "                                          data=data_start_stations)\n",
    "plt.title(\"Subscriber vs. Customer count comparison in the top 10 start stations\")"
   ]
  },
  {
   "cell_type": "markdown",
   "metadata": {
    "collapsed": false
   },
   "source": [
    "### Observations:\n",
    "- All stations from the top 10 start stations with the most counts have more customers than subscribers\n",
    "- 1 Ave & E 68 St has the most Customer users\n",
    "- W 21 St & 6 Ave has the most Subscriber users\n",
    "- Grand St & Elizabeth St has the least Customer users\n",
    "- E 33 St & 1 Ave has the least Subscriber users"
   ]
  },
  {
   "cell_type": "markdown",
   "metadata": {
    "collapsed": false
   },
   "source": [
    "## Bivariate: End station & user type"
   ]
  },
  {
   "cell_type": "markdown",
   "metadata": {
    "collapsed": false
   },
   "source": [
    "Relationship between the 10 end stations with the most counts and the user type for each station."
   ]
  },
  {
   "cell_type": "code",
   "execution_count": 0,
   "metadata": {
    "collapsed": false
   },
   "outputs": [
   ],
   "source": [
    "# Get the data that has an end station value in the top 10 end stations.\n",
    "data_end_stations = data[data[\"end station name\"].isin(end_stations[\"Station name\"])]\n",
    "data_end_stations"
   ]
  },
  {
   "cell_type": "code",
   "execution_count": 0,
   "metadata": {
    "collapsed": false
   },
   "outputs": [
   ],
   "source": [
    "# Plot the relationship\n",
    "end_station_usertype_plot = sns.catplot(y=\"end station name\",\n",
    "                                        kind=\"count\",\n",
    "                                       hue=\"usertype\",\n",
    "                                        orient=\"h\",\n",
    "                                       data=data_end_stations)\n",
    "plt.title(\"Trips Made for Each User Type in the Top 10 End Stations\")"
   ]
  },
  {
   "cell_type": "markdown",
   "metadata": {
    "collapsed": false
   },
   "source": [
    "### Observations:\n",
    "- Most of the users from the top 10 end stations with the most counts are only customers of the service given.\n",
    "- The highest and lowest counts for each of the user types are distributed among different stations\n",
    "    - 1 Ave & E 68 St has the highest customer user type count.\n",
    "    - Grand St & Elizabeth St has the lowest customer user type count.\n",
    "    - W 21 St & 6 Ave has the highest subscriber usertype count.\n",
    "    - E 33 St & 1 Ave has the lowest subscriber usertype count."
   ]
  },
  {
   "cell_type": "markdown",
   "metadata": {
    "collapsed": false
   },
   "source": [
    "## Bivariate: End station & gender"
   ]
  },
  {
   "cell_type": "code",
   "execution_count": 0,
   "metadata": {
    "collapsed": false
   },
   "outputs": [
   ],
   "source": [
    "end_stations = data[\"end station name\"].value_counts().rename_axis('Station name').reset_index(name='counts')\n",
    "end_stations = end_stations.nlargest(10, 'counts')\n",
    "end_stations"
   ]
  },
  {
   "cell_type": "code",
   "execution_count": 0,
   "metadata": {
    "collapsed": false
   },
   "outputs": [
   ],
   "source": [
    "data_end_station = data[data['end station name'].isin(end_stations['Station name'])]\n",
    "data_end_station"
   ]
  },
  {
   "cell_type": "code",
   "execution_count": 0,
   "metadata": {
    "collapsed": false
   },
   "outputs": [
   ],
   "source": [
    "gender_endstation_plot = sns.catplot(y = \"end station name\", kind = \"count\", hue = \"gender\", data = data_end_station)\n",
    "plt.title(\"Top 10 End Stations for Each Gender (With Unknown)\")"
   ]
  },
  {
   "cell_type": "code",
   "execution_count": 0,
   "metadata": {
    "collapsed": false
   },
   "outputs": [
   ],
   "source": [
    "#Remove entries with '0' gender\n",
    "data_without_0 = data_end_station.loc[data_end_station['gender'] != 0] "
   ]
  },
  {
   "cell_type": "code",
   "execution_count": 0,
   "metadata": {
    "collapsed": false
   },
   "outputs": [
   ],
   "source": [
    "gender_endstation_plot = sns.catplot(y = \"end station name\", kind = \"count\", hue = \"gender\", data = data_without_0)\n",
    "plt.title(\"Top 10 End Stations for Each Gender\")"
   ]
  },
  {
   "cell_type": "code",
   "execution_count": 0,
   "metadata": {
    "collapsed": false
   },
   "outputs": [
   ],
   "source": [
    "male_counter = data_without_0.loc[data_without_0['gender'] ==1]\n",
    "male_counter = male_counter[\"end station name\"].value_counts().rename_axis('Station name').reset_index(name='counts')\n",
    "male_counter"
   ]
  },
  {
   "cell_type": "code",
   "execution_count": 0,
   "metadata": {
    "collapsed": false
   },
   "outputs": [
   ],
   "source": [
    "female_counter = data_without_0.loc[data_without_0['gender'] ==2]\n",
    "female_counter = female_counter[\"end station name\"].value_counts().rename_axis('Station name').reset_index(name='counts')\n",
    "female_counter"
   ]
  },
  {
   "cell_type": "markdown",
   "metadata": {
    "collapsed": false
   },
   "source": [
    "#### Observations:\n",
    "- All stations from the top 10 end stations have more males than females\n",
    "- All stations from the top 10 end stations have significantly more riders with no registered gender\n",
    "- W 21 St & 6 Ave has the most male riders\n",
    "- 1 Ave & E 68 St has the most female riders\n",
    "- E 33 St & 1 Ave has the least male riders\n",
    "- Pershing Square North has the least female"
   ]
  },
  {
   "cell_type": "markdown",
   "metadata": {
    "collapsed": false
   },
   "source": [
    "## Multi: Start station, end station & trip duration"
   ]
  },
  {
   "cell_type": "markdown",
   "metadata": {
    "collapsed": false
   },
   "source": [
    "The relationship between the top 10 start and end stations concerning their average duration in minutes."
   ]
  },
  {
   "cell_type": "code",
   "execution_count": 0,
   "metadata": {
    "collapsed": false
   },
   "outputs": [
   ],
   "source": [
    "# Get the combinations of the origin and destination stations that are not outliers.\n",
    "od_trips_duration = data[filtered_entries & filtered_dist].groupby(['start station name', 'end station name'], as_index=False)['duration_min'].mean()\n",
    "od_trips_duration = od_trips_duration.rename(columns={\"start station name\": \"start\", \"end station name\": \"end\", \"duration_min\": \"avg_duration\"}, errors=\"raise\")\n",
    "od_trips_duration.head()"
   ]
  },
  {
   "cell_type": "code",
   "execution_count": 0,
   "metadata": {
    "collapsed": false
   },
   "outputs": [
   ],
   "source": [
    "# Get the combinations that are in the top 10 start and end stations\n",
    "od_topten_duration = od_trips_duration[od_trips_duration.start.isin(start_stations[\"Station name\"]) & od_trips_duration.end.isin(end_stations[\"Station name\"])]\n",
    "od_topten_duration"
   ]
  },
  {
   "cell_type": "code",
   "execution_count": 0,
   "metadata": {
    "collapsed": false
   },
   "outputs": [
   ],
   "source": [
    "od_matrix_duration = pd.pivot_table(od_topten_duration, index='start', columns='end', values='avg_duration', aggfunc=np.sum, fill_value=0)\n",
    "od_matrix_duration"
   ]
  },
  {
   "cell_type": "code",
   "execution_count": 0,
   "metadata": {
    "collapsed": false
   },
   "outputs": [
   ],
   "source": [
    "# Generate a heatmap for the matrix\n",
    "od_heatmap_duration = sns.heatmap(od_matrix_duration)\n",
    "plt.title(\"The Average Trip Duration in Minutes of the Top 10 Start and End Stations\")"
   ]
  },
  {
   "cell_type": "markdown",
   "metadata": {
    "collapsed": false
   },
   "source": [
    "### Observations:\n",
    "- The trip from Broadway & W 60 St to Grand St & Elizabeth St has the highest duration in minutes.\n",
    "- Trips from Broadway & W 60 St and 1 Ave & 68 St tend to have durations longer than 20 minutes."
   ]
  },
  {
   "cell_type": "markdown",
   "metadata": {
    "collapsed": false
   },
   "source": [
    "## Multi: Start station, end station & unique users"
   ]
  },
  {
   "cell_type": "code",
   "execution_count": 0,
   "metadata": {
    "collapsed": false
   },
   "outputs": [
   ],
   "source": [
    "od_bikeid = data.groupby(['start station name', 'end station name'], as_index=False).agg({\"bikeid\": \"nunique\"})\n",
    "od_bikeid = od_bikeid.rename(columns={\"start station name\": \"start\", \"end station name\": \"end\", \"bikeid\": \"bikeid_count\"}, errors=\"raise\")\n",
    "od_bikeid.sort_values(by=['bikeid_count'])"
   ]
  },
  {
   "cell_type": "code",
   "execution_count": 0,
   "metadata": {
    "collapsed": false
   },
   "outputs": [
   ],
   "source": [
    "od_unique_topten = od_bikeid[od_bikeid.start.isin(start_stations[\"Station name\"]) & od_bikeid.end.isin(end_stations[\"Station name\"])]\n",
    "od_unique_matrix = pd.pivot_table(od_unique_topten, index='start', columns='end', values='bikeid_count', aggfunc=np.sum, fill_value=0)\n",
    "od_unique_matrix"
   ]
  },
  {
   "cell_type": "code",
   "execution_count": 0,
   "metadata": {
    "collapsed": false
   },
   "outputs": [
   ],
   "source": [
    "od_heatmap = sns.heatmap(od_unique_matrix, cmap=\"YlGnBu\", annot=True, fmt=\"d\")\n",
    "plt.title(\"Number of unique bikeid's for the top 10 start-end station pair\")"
   ]
  },
  {
   "cell_type": "markdown",
   "metadata": {
    "collapsed": false
   },
   "source": [
    "### Observations:\n",
    "- The most number of unique bikeid's are on the W 33 St & 7 Ave to E 33 St & 1 Ave.\n",
    "- There are multiple start-end pairs that do not have bikeid's.\n",
    "- There is very minimal difference compared to the heatmap of total rides.\n",
    "- Most values of unique bikeid's are the same with the total number of rides."
   ]
  },
  {
   "cell_type": "markdown",
   "metadata": {
    "collapsed": false
   },
   "source": [
    "## Multi: Start station, end station & user type"
   ]
  },
  {
   "cell_type": "code",
   "execution_count": 0,
   "metadata": {
    "collapsed": false
   },
   "outputs": [
   ],
   "source": [
    "od_trips = data.groupby(['start station name', 'end station name','usertype'], as_index=False)['bikeid'].count()\n",
    "od_trips = od_trips.rename(columns={\"start station name\": \"start\", \"end station name\": \"end\", \"bikeid\": \"total_trips\"}, errors=\"raise\")\n",
    "od_trips.head()"
   ]
  },
  {
   "cell_type": "code",
   "execution_count": 0,
   "metadata": {
    "collapsed": false
   },
   "outputs": [
   ],
   "source": [
    "od_trips[\"od\"] = od_trips[\"start\"] + \" to \" + od_trips[\"end\"]\n",
    "customer_trips = od_trips[od_trips[\"usertype\"] == \"Customer\"]\n",
    "customer_trips"
   ]
  },
  {
   "cell_type": "code",
   "execution_count": 0,
   "metadata": {
    "collapsed": false
   },
   "outputs": [
   ],
   "source": [
    "customer_rank_plot = sns.catplot(y=\"od\", x=\"total_trips\", orient=\"h\", kind=\"bar\", data=customer_trips.nlargest(10, \"total_trips\"))\n",
    "plt.title(\"Top 10 trips of Customers\")"
   ]
  },
  {
   "cell_type": "code",
   "execution_count": 0,
   "metadata": {
    "collapsed": false
   },
   "outputs": [
   ],
   "source": [
    "subscriber_trips = od_trips[od_trips[\"usertype\"] == \"Subscriber\"]\n",
    "subscriber_trips"
   ]
  },
  {
   "cell_type": "code",
   "execution_count": 0,
   "metadata": {
    "collapsed": false
   },
   "outputs": [
   ],
   "source": [
    "subscriber_rank_plot = sns.catplot(y=\"od\", x=\"total_trips\", orient=\"h\", kind=\"bar\", data=subscriber_trips.nlargest(10, \"total_trips\"))\n",
    "plt.title(\"Top 10 trips of Subscribers\")"
   ]
  },
  {
   "cell_type": "markdown",
   "metadata": {
    "collapsed": false
   },
   "source": [
    "#### Observations\n",
    "- Most of the trips consisted of Customers \n",
    "    - The trip from 1 Ave & E62 St. to 1 Ave & E 68 St has the highest trips from customers with over 140 trips\n",
    "- The trip with the most Subscribers is from W 21 St & 6 Ave to 9 Ave & W 22 St having over 100 rides.\n",
    "    - Customers from this trip has over 120 rides."
   ]
  },
  {
   "cell_type": "markdown",
   "metadata": {
    "collapsed": false
   },
   "source": [
    "## Multi: Trip distance, duration & gender"
   ]
  },
  {
   "cell_type": "code",
   "execution_count": 0,
   "metadata": {
    "collapsed": false
   },
   "outputs": [
   ],
   "source": [
    "#Add distance to data\n",
    "data['distance_km'] = data.apply(lambda x: calculate_distance(x['start station latitude'], x['start station longitude'],\n",
    "                                        x['end station latitude'], x['end station longitude']), axis=1)"
   ]
  },
  {
   "cell_type": "code",
   "execution_count": 0,
   "metadata": {
    "collapsed": false
   },
   "outputs": [
   ],
   "source": [
    "data['duration_min'] = data['tripduration']/60"
   ]
  },
  {
   "cell_type": "code",
   "execution_count": 0,
   "metadata": {
    "collapsed": false
   },
   "outputs": [
   ],
   "source": [
    "# Remove outliers\n",
    "z_scores = zscore(data[\"duration_min\"])\n",
    "\n",
    "abs_z_scores = np.abs(z_scores)\n",
    "\n",
    "filtered_duration = (abs_z_scores < 3)"
   ]
  },
  {
   "cell_type": "code",
   "execution_count": 0,
   "metadata": {
    "collapsed": false
   },
   "outputs": [
   ],
   "source": [
    "# Remove outliers\n",
    "z_scores = zscore(data[\"distance_km\"]) \n",
    "\n",
    "abs_z_scores = np.abs(z_scores)\n",
    "\n",
    "filtered_distance = (abs_z_scores < 3)"
   ]
  },
  {
   "cell_type": "code",
   "execution_count": 0,
   "metadata": {
    "collapsed": false
   },
   "outputs": [
   ],
   "source": [
    "dist_dur_gender_plot = sns.jointplot(data=data[filtered_duration & filtered_distance], x = \"duration_min\",\n",
    "                                     y = \"distance_km\",\n",
    "                                     hue = \"gender\",\n",
    "                                     palette={0: \"green\", 1: \"violet\", 2:\"red\"},\n",
    "                                    alpha =0.5)\n",
    "dist_dur_gender_plot.set_axis_labels(\"Trip duration (min)\", \"Trip distance (km)\", labelpad=10)\n",
    "dist_dur_gender_plot.fig.set_size_inches(12.5, 6.5)\n",
    "dist_dur_gender_plot.fig.suptitle(\"Trip Duration and Distance for Each Gender (With Unknown)\")"
   ]
  },
  {
   "cell_type": "code",
   "execution_count": 0,
   "metadata": {
    "collapsed": false
   },
   "outputs": [
   ],
   "source": [
    "data_without_0 = data.loc[data['gender'] != 0]"
   ]
  },
  {
   "cell_type": "code",
   "execution_count": 0,
   "metadata": {
    "collapsed": false
   },
   "outputs": [
   ],
   "source": [
    "# Remove outliers\n",
    "z_scores = zscore(data_without_0[\"distance_km\"])\n",
    "\n",
    "abs_z_scores = np.abs(z_scores)\n",
    "\n",
    "filtered_distance_without_0 = (abs_z_scores < 3)"
   ]
  },
  {
   "cell_type": "code",
   "execution_count": 0,
   "metadata": {
    "collapsed": false
   },
   "outputs": [
   ],
   "source": [
    "# Remove outliers\n",
    "z_scores = zscore(data_without_0[\"duration_min\"])\n",
    "\n",
    "abs_z_scores = np.abs(z_scores)\n",
    "\n",
    "filtered_duration_without_0 = (abs_z_scores < 3)"
   ]
  },
  {
   "cell_type": "code",
   "execution_count": 0,
   "metadata": {
    "collapsed": false
   },
   "outputs": [
   ],
   "source": [
    "dist_dur_gender_plot_without0 = sns.jointplot(data=data_without_0[filtered_duration_without_0 & filtered_distance_without_0], x = \"duration_min\",\n",
    "                                     y = \"distance_km\",\n",
    "                                     hue = \"gender\",\n",
    "                                     palette={1: \"green\", 2:\"red\"},\n",
    "                                     alpha =0.5)\n",
    "dist_dur_gender_plot_without0.set_axis_labels(\"Trip duration (min)\", \"Trip distance (km)\", labelpad=10)\n",
    "dist_dur_gender_plot_without0.fig.set_size_inches(12.5, 6.5)\n",
    "dist_dur_gender_plot_without0.fig.suptitle(\"Trip Duration and Distance for Each Gender\")"
   ]
  },
  {
   "cell_type": "markdown",
   "metadata": {
    "collapsed": false
   },
   "source": [
    "#### Observations:\n",
    "- Riders with no registered gender have higher trip distances\n",
    "- Riders with no registered gender have longer trip durations\n",
    "- Male riders have higher trip distances than female riders\n",
    "- Male riders have longer trip durations than female riders"
   ]
  },
  {
   "cell_type": "markdown",
   "metadata": {
    "collapsed": false
   },
   "source": [
    "## Multi: Average trip distance per unique user, average duration per unique user & user type"
   ]
  },
  {
   "cell_type": "markdown",
   "metadata": {
    "collapsed": false
   },
   "source": [
    "There are multiple bikeids that are both customers and subscribers."
   ]
  },
  {
   "cell_type": "code",
   "execution_count": 0,
   "metadata": {
    "collapsed": false
   },
   "outputs": [
   ],
   "source": [
    "dist_dur_id_type_mean_df = data[filtered_entries & filtered_dist]\n",
    "dist_dur_id_type_mean_df = dist_dur_id_type_mean_df[dist_dur_id_type_mean_df[\"distance_km\"] != 0]\n",
    "dist_dur_id_type_mean_df = dist_dur_id_type_mean_df[[\"bikeid\", \"usertype\", \"duration_min\", \"distance_km\"]].groupby(by=[\"bikeid\", \"usertype\"]).mean()\n",
    "dist_dur_id_type_mean_df"
   ]
  },
  {
   "cell_type": "code",
   "execution_count": 0,
   "metadata": {
    "collapsed": false
   },
   "outputs": [
   ],
   "source": [
    "dist_dur_id_type_mean_plot = sns.jointplot(data=dist_dur_id_type_mean_df,\n",
    "                                     x = \"distance_km\",\n",
    "                                     y = \"duration_min\",\n",
    "                                     hue = \"usertype\",\n",
    "                                     alpha =0.5,\n",
    "                                    ylim=(0, 140))\n",
    "dist_dur_id_type_mean_plot.set_axis_labels(\"Trip distance (km)\", \"Trip duration (min)\", labelpad=10)\n",
    "dist_dur_id_type_mean_plot.fig.set_size_inches(12.5, 6.5)\n",
    "dist_dur_id_type_mean_plot.fig.suptitle(\"Average trip distance versus average trip duration per user per type of user\")"
   ]
  },
  {
   "cell_type": "markdown",
   "metadata": {
    "collapsed": false
   },
   "source": [
    "## Multi: Average trip distance per unique user, average duration per unique user, gender & user type"
   ]
  },
  {
   "cell_type": "markdown",
   "metadata": {
    "collapsed": false
   },
   "source": [
    "### Gender 0 - Unknown"
   ]
  },
  {
   "cell_type": "code",
   "execution_count": 0,
   "metadata": {
    "collapsed": false
   },
   "outputs": [
   ],
   "source": [
    "dist_dur_id_type_mean_df = data[filtered_entries & filtered_dist]\n",
    "dist_dur_id_type_mean_df = dist_dur_id_type_mean_df[[\"bikeid\", \"usertype\", \"duration_min\", \"distance_km\", \"gender\"]].groupby(by=[\"bikeid\", \"usertype\"]).mean()\n",
    "dist_dur_id_type_mean_df = dist_dur_id_type_mean_df[dist_dur_id_type_mean_df[\"distance_km\"] != 0]\n",
    "\n",
    "dist_dur_id_type_mean_df_0 = dist_dur_id_type_mean_df[dist_dur_id_type_mean_df[\"gender\"] == 0]"
   ]
  },
  {
   "cell_type": "code",
   "execution_count": 0,
   "metadata": {
    "collapsed": false
   },
   "outputs": [
   ],
   "source": [
    "dist_dur_id_type_mean_plot = sns.jointplot(data=dist_dur_id_type_mean_df_0,\n",
    "                                     x = \"distance_km\",\n",
    "                                     y = \"duration_min\",\n",
    "                                     hue = \"usertype\",\n",
    "                                     alpha =0.5,\n",
    "                                    ylim=(0, 140))\n",
    "dist_dur_id_type_mean_plot.set_axis_labels(\"Trip distance (km)\", \"Trip duration (min)\", labelpad=10)\n",
    "dist_dur_id_type_mean_plot.fig.set_size_inches(12.5, 6.5)\n",
    "dist_dur_id_type_mean_plot.fig.suptitle(\"Average trip distance versus average trip duration per user for each type of user with unknown gender\")"
   ]
  },
  {
   "cell_type": "markdown",
   "metadata": {
    "collapsed": false
   },
   "source": [
    "### Gender 1 - Male"
   ]
  },
  {
   "cell_type": "code",
   "execution_count": 0,
   "metadata": {
    "collapsed": false
   },
   "outputs": [
   ],
   "source": [
    "dist_dur_id_type_mean_df_1 = dist_dur_id_type_mean_df[dist_dur_id_type_mean_df[\"gender\"] == 1]"
   ]
  },
  {
   "cell_type": "code",
   "execution_count": 0,
   "metadata": {
    "collapsed": false
   },
   "outputs": [
   ],
   "source": [
    "dist_dur_id_type_mean_plot_1 = sns.jointplot(data=dist_dur_id_type_mean_df_1,\n",
    "                                     x = \"distance_km\",\n",
    "                                     y = \"duration_min\",\n",
    "                                     hue = \"usertype\",\n",
    "                                     alpha =0.5,\n",
    "                                    ylim=(0, 140))\n",
    "dist_dur_id_type_mean_plot_1.set_axis_labels(\"Trip distance (km)\", \"Trip duration (min)\", labelpad=10)\n",
    "dist_dur_id_type_mean_plot_1.fig.set_size_inches(12.5, 6.5)\n",
    "dist_dur_id_type_mean_plot.fig.suptitle(\"Average trip distance versus average trip duration per user for each type of user with male gender\")"
   ]
  },
  {
   "cell_type": "markdown",
   "metadata": {
    "collapsed": false
   },
   "source": [
    "### Gender 2 - Female"
   ]
  },
  {
   "cell_type": "code",
   "execution_count": 0,
   "metadata": {
    "collapsed": false
   },
   "outputs": [
   ],
   "source": [
    "dist_dur_id_type_mean_df_2 = dist_dur_id_type_mean_df[dist_dur_id_type_mean_df[\"gender\"] == 2]"
   ]
  },
  {
   "cell_type": "code",
   "execution_count": 0,
   "metadata": {
    "collapsed": false
   },
   "outputs": [
   ],
   "source": [
    "dist_dur_id_type_mean_plot_2 = sns.jointplot(data=dist_dur_id_type_mean_df_2,\n",
    "                                     x = \"distance_km\",\n",
    "                                     y = \"duration_min\",\n",
    "                                     hue = \"usertype\",\n",
    "                                     alpha =0.5,\n",
    "                                    ylim=(0, 140))\n",
    "dist_dur_id_type_mean_plot_2.set_axis_labels(\"Trip distance (km)\", \"Trip duration (min)\", labelpad=10)\n",
    "dist_dur_id_type_mean_plot_2.fig.set_size_inches(12.5, 6.5)\n",
    "dist_dur_id_type_mean_plot.fig.suptitle(\"Average trip distance versus average trip duration per user for each type of user with female gender\")"
   ]
  },
  {
   "cell_type": "markdown",
   "metadata": {
    "collapsed": false
   },
   "source": [
   ]
  }
 ],
 "metadata": {
  "kernelspec": {
   "display_name": "Python 3 (system-wide)",
   "language": "python",
   "metadata": {
    "cocalc": {
     "description": "Python 3 programming language",
     "priority": 100,
     "url": "https://www.python.org/"
    }
   },
   "name": "python3",
   "resource_dir": "/ext/jupyter/kernels/python3"
  },
  "language_info": {
   "codemirror_mode": {
    "name": "ipython",
    "version": 3
   },
   "file_extension": ".py",
   "mimetype": "text/x-python",
   "name": "python",
   "nbconvert_exporter": "python",
   "pygments_lexer": "ipython3",
   "version": "3.8.5"
  }
 },
 "nbformat": 4,
 "nbformat_minor": 4
}